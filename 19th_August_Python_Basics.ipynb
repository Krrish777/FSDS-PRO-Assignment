{
 "cells": [
  {
   "cell_type": "code",
   "execution_count": 1,
   "id": "88a61c3a-3d1f-4940-b90a-2250715c6971",
   "metadata": {},
   "outputs": [],
   "source": [
    "#Topic: Python Basic Variable"
   ]
  },
  {
   "cell_type": "code",
   "execution_count": 3,
   "id": "38b6818a-89fc-42dc-b0e3-f918a617dfd3",
   "metadata": {},
   "outputs": [
    {
     "name": "stdout",
     "output_type": "stream",
     "text": [
      "x = 20\n",
      "y = 10\n"
     ]
    }
   ],
   "source": [
    "#Question1\n",
    "#Declaring two variable x and y and assign them integer value 10 and 20 respectively\n",
    "x= 10\n",
    "y = 20\n",
    "#Swapping values without temporary variable\n",
    "x,y = y,x\n",
    "#Display the result\n",
    "print(\"x =\", x)\n",
    "print(\"y =\", y)"
   ]
  },
  {
   "cell_type": "code",
   "execution_count": 5,
   "id": "0ced5aba-7d47-4aa5-8b98-988e6bd8b0ba",
   "metadata": {},
   "outputs": [
    {
     "name": "stdin",
     "output_type": "stream",
     "text": [
      "Enter the length of the rectangle:  5.5\n",
      "Enter the width of the rectangle:  6.7\n"
     ]
    },
    {
     "name": "stdout",
     "output_type": "stream",
     "text": [
      "The area of the rectangle is: 36.85\n"
     ]
    }
   ],
   "source": [
    "#Question2\n",
    "#Input the length and width from the user\n",
    "length = float(input(\"Enter the length of the rectangle: \"))#float() because dimension can be in decimal numbers\n",
    "width = float(input(\"Enter the width of the rectangle: \"))\n",
    "#Calculate the area of the rectangle\n",
    "area = length*width\n",
    "#Display the result\n",
    "print(\"The area of the rectangle is:\", area)"
   ]
  },
  {
   "cell_type": "code",
   "execution_count": 6,
   "id": "85df5015-4a28-4754-b8e0-e8b8cc9a4616",
   "metadata": {},
   "outputs": [
    {
     "name": "stdin",
     "output_type": "stream",
     "text": [
      "Enter temperature in Celsius:  37\n"
     ]
    },
    {
     "name": "stdout",
     "output_type": "stream",
     "text": [
      "Temperature in Fahrenheit: 98.6\n"
     ]
    }
   ],
   "source": [
    "#Question3\n",
    "#Input temperature in Celsius from the user\n",
    "celsius = float(input(\"Enter temperature in Celsius: \"))#float() because temperatures can have decimal values\n",
    "#Convert Celsius to Fahrenheit using the formula: F = (C * 9/5) + 32\n",
    "fahrenheit = (celsius * 9/5) + 32\n",
    "#Display the result\n",
    "print(\"Temperature in Fahrenheit:\",fahrenheit)"
   ]
  },
  {
   "cell_type": "code",
   "execution_count": 7,
   "id": "33af50d6-e69b-465a-8bab-fe181d69b5c6",
   "metadata": {},
   "outputs": [],
   "source": [
    "#Topic: String Based Questions"
   ]
  },
  {
   "cell_type": "code",
   "execution_count": 8,
   "id": "4a43884b-6398-48d3-9330-443d9a48bda5",
   "metadata": {},
   "outputs": [
    {
     "name": "stdin",
     "output_type": "stream",
     "text": [
      "Enter a string:  Krish\n"
     ]
    },
    {
     "name": "stdout",
     "output_type": "stream",
     "text": [
      "The length of the string is:  5\n"
     ]
    }
   ],
   "source": [
    "#Question1\n",
    "#Input a string from the user\n",
    "x = input(\"Enter a string: \")\n",
    "#Calculate and print the length of the string\n",
    "length = len(x)\n",
    "print(\"The length of the string is: \", length)"
   ]
  },
  {
   "cell_type": "code",
   "execution_count": 13,
   "id": "40894e66-09fe-4a32-8a19-57df3aeb767a",
   "metadata": {},
   "outputs": [
    {
     "name": "stdin",
     "output_type": "stream",
     "text": [
      "Enter a sentence:  u\n"
     ]
    },
    {
     "name": "stdout",
     "output_type": "stream",
     "text": [
      "Number of vowels in the sentence: 1\n"
     ]
    }
   ],
   "source": [
    "#Question2\n",
    "#Input a sentence from the user\n",
    "x= input(\"Enter a sentence: \")\n",
    "#Initialize a Variable to count the vowels\n",
    "y = 0\n",
    "#Define a set of vowels to check against making it case insensitive by adding vowels in both uppercase and lowercase\n",
    "vowels=\"aeiouAEIOU\"\n",
    "#Recapitulate through each character in the sentence\n",
    "for char in x: \n",
    "    #for loop is used for recapitulating over a sequence whether its list, tuple, dictionary\n",
    "    #in is used to assign which sequence will go through for loop in this case x\n",
    "    if char in vowels:#if statement is used to add a condition here condition is if there are vowels in sentence count them if there aren't print 0\n",
    "        y += 1 # += operator adds two values together and assigns the final value to a variable\n",
    "#Display the vowel count\n",
    "print(\"Number of vowels in the sentence:\", y)"
   ]
  },
  {
   "cell_type": "code",
   "execution_count": 11,
   "id": "3cfbd9ba-96dd-4e28-a77a-495e14791fc6",
   "metadata": {},
   "outputs": [
    {
     "name": "stdin",
     "output_type": "stream",
     "text": [
      "Enter a string:  hello\n"
     ]
    },
    {
     "name": "stdout",
     "output_type": "stream",
     "text": [
      "Reversed string: olleh\n"
     ]
    }
   ],
   "source": [
    "#Question3\n",
    "# Input a string from the user\n",
    "x = input(\"Enter a string: \")\n",
    "\n",
    "# Reverse the string using string slicing\n",
    "y = x[::-1]\n",
    "\n",
    "# Print the reversed string\n",
    "print(\"Reversed string:\", y)\n"
   ]
  },
  {
   "cell_type": "code",
   "execution_count": 14,
   "id": "3a805d23-27ad-4495-bfae-2281659d1833",
   "metadata": {},
   "outputs": [
    {
     "name": "stdin",
     "output_type": "stream",
     "text": [
      "Enter a string:  f\n"
     ]
    },
    {
     "name": "stdout",
     "output_type": "stream",
     "text": [
      "The string is a palindrome.\n"
     ]
    }
   ],
   "source": [
    "#Question4\n",
    "# Input a string from the user\n",
    "x = input(\"Enter a string: \")\n",
    "\n",
    "# Remove spaces and convert to lowercase for case-insensitive comparison\n",
    "y = x.replace(\" \", \"\").lower()\n",
    "\n",
    "# Reverse the string\n",
    "z = y[::-1]\n",
    "\n",
    "# Check if the original string is equal to its reverse\n",
    "if y == z:\n",
    "    print(\"The string is a palindrome.\")\n",
    "else:\n",
    "    print(\"The string is not a palindrome.\")\n",
    "#if and else statement are used to check if original string is equal to its reverse\n",
    "#== compare the value of two objects to determine whether they are equal or not"
   ]
  },
  {
   "cell_type": "code",
   "execution_count": 16,
   "id": "cdb869c8-bc10-433e-b3ce-345ec928784e",
   "metadata": {},
   "outputs": [
    {
     "name": "stdin",
     "output_type": "stream",
     "text": [
      "Enter a string:  asjlvd fwhjlrfjlkhfa flkjsdfdfjlk;erfa\n"
     ]
    },
    {
     "name": "stdout",
     "output_type": "stream",
     "text": [
      "Modified string without spaces: asjlvdfwhjlrfjlkhfaflkjsdfdfjlk;erfa\n"
     ]
    }
   ],
   "source": [
    "#Question5\n",
    "# Input a string from the user\n",
    "x = input(\"Enter a string: \")\n",
    "\n",
    "# Remove spaces from the input string\n",
    "y = x.replace(\" \", \"\")#replace(\" \", \"\") function is used to remove spaces from the input string and replacing them with a empty string \"\" \n",
    "\n",
    "# Print the modified string without spaces\n",
    "print(\"Modified string without spaces:\", y)\n"
   ]
  },
  {
   "cell_type": "code",
   "execution_count": null,
   "id": "d3b50c3e-4c0b-4a1c-8f34-fb1546d7dcb4",
   "metadata": {},
   "outputs": [],
   "source": []
  }
 ],
 "metadata": {
  "kernelspec": {
   "display_name": "Python 3 (ipykernel)",
   "language": "python",
   "name": "python3"
  },
  "language_info": {
   "codemirror_mode": {
    "name": "ipython",
    "version": 3
   },
   "file_extension": ".py",
   "mimetype": "text/x-python",
   "name": "python",
   "nbconvert_exporter": "python",
   "pygments_lexer": "ipython3",
   "version": "3.10.8"
  }
 },
 "nbformat": 4,
 "nbformat_minor": 5
}
